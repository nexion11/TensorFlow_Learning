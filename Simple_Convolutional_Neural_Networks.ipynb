{
  "nbformat": 4,
  "nbformat_minor": 0,
  "metadata": {
    "colab": {
      "provenance": [],
      "authorship_tag": "ABX9TyO18dv294NkPrN+d8TNpEkG",
      "include_colab_link": true
    },
    "kernelspec": {
      "name": "python3",
      "display_name": "Python 3"
    },
    "language_info": {
      "name": "python"
    }
  },
  "cells": [
    {
      "cell_type": "markdown",
      "metadata": {
        "id": "view-in-github",
        "colab_type": "text"
      },
      "source": [
        "<a href=\"https://colab.research.google.com/github/nexion11/TensorFlow_Learning/blob/main/Simple_Convolutional_Neural_Networks.ipynb\" target=\"_parent\"><img src=\"https://colab.research.google.com/assets/colab-badge.svg\" alt=\"Open In Colab\"/></a>"
      ]
    },
    {
      "cell_type": "code",
      "execution_count": null,
      "metadata": {
        "id": "qHdI_IjGIO5S"
      },
      "outputs": [],
      "source": [
        "import os\n",
        "os.environ['TF_CPP_MIN_LOG_LEVEL'] = '2'\n",
        "\n",
        "import tensorflow as tf\n",
        "from tensorflow import keras\n",
        "from tensorflow.keras import layers\n",
        "\n",
        "import matplotlib.pyplot as plt\n",
        "\n",
        "cifar10 = keras.datasets.cifar10\n",
        "\n",
        "(train_images, train_labels), (test_images, test_labels) = cifar10.load_data()\n",
        "\n",
        "print(train_images.shape) # 50000, 32, 32, 3\n",
        "\n",
        "# Normalize: 0,255 -> 0,1\n",
        "train_images, test_images = train_images / 255.0, test_images / 255.0\n",
        "\n",
        "class_names = ['airplane', 'automobile', 'bird', 'cat', 'deer',\n",
        "               'dog', 'frog', 'horse', 'ship', 'truck']\n",
        "\n",
        "model = keras.models.Sequential()\n",
        "model.add(layers.Conv2D(32, (3,3), strides=(1,1), padding='valid',activation='relu',input_shape=(32,32,3)))\n",
        "model.add(layers.MaxPooling2D((2,2)))\n",
        "model.add(layers.Conv2D(32,3,activation='relu'))\n",
        "model.add(layers.MaxPooling2D((2,2)))\n",
        "model.add(layers.Flatten())\n",
        "model.add(layers.Dense(64,activation='relu'))\n",
        "model.add(layers.Dense(10))\n",
        "\n",
        "print(model.summary())\n",
        "\n",
        "loss = keras.losses.SparseCategoricalCrossentropy(from_logits=True)\n",
        "optimizer = keras.optimizers.Adam(lr=0.001)\n",
        "metrics=['accuracy']\n",
        "\n",
        "model.compile(loss=loss,optimizer=optimizer,metrics=metrics)\n",
        "\n",
        "batch_size = 64\n",
        "epochs=5\n",
        "\n",
        "model.fit(train_images,train_labels,epochs=epochs,batch_size=batch_size,verbose=2)\n",
        "\n",
        "model.evaluate(test_images,test_labels)\n",
        "\n"
      ]
    }
  ]
}